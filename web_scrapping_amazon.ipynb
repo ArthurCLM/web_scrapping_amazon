{
  "nbformat": 4,
  "nbformat_minor": 0,
  "metadata": {
    "colab": {
      "provenance": []
    },
    "kernelspec": {
      "name": "python3",
      "display_name": "Python 3"
    },
    "language_info": {
      "name": "python"
    }
  },
  "cells": [
    {
      "cell_type": "code",
      "execution_count": null,
      "metadata": {
        "id": "QfbVzHqBrg3X"
      },
      "outputs": [],
      "source": [
        "import requests\n",
        "import pandas as pd\n",
        "from bs4 import BeautifulSoup"
      ]
    },
    {
      "cell_type": "code",
      "source": [
        "page = requests.get(\"https://www.amazon.com.br/b/?node=16339926011&pf_rd_r=8THN8DZ0V5AS6M9T0J6C&pf_rd_p=10f1e499-203c-47c7-b617-3cbf30b8c869&pd_rd_r=11acf4ef-154f-4517-b0bc-20552b6726d3&pd_rd_w=xY9Y5&pd_rd_wg=Tp1YO&ref_=pd_gw_unk\")\n",
        "page"
      ],
      "metadata": {
        "colab": {
          "base_uri": "https://localhost:8080/"
        },
        "id": "pxd0Sy2srjQT",
        "outputId": "f4a2ac76-a97e-4497-eee6-f1e41b3861bb"
      },
      "execution_count": null,
      "outputs": [
        {
          "output_type": "execute_result",
          "data": {
            "text/plain": [
              "<Response [200]>"
            ]
          },
          "metadata": {},
          "execution_count": 12
        }
      ]
    },
    {
      "cell_type": "code",
      "source": [
        "#We can print out the HTML content of the page using the content property\n",
        "page.content"
      ],
      "metadata": {
        "id": "zItGcLjwrjYA"
      },
      "execution_count": null,
      "outputs": []
    },
    {
      "cell_type": "code",
      "source": [
        "soup = BeautifulSoup(page.content, 'html.parser')\n",
        "print(soup.prettify())"
      ],
      "metadata": {
        "id": "xjUwiq13r1Av"
      },
      "execution_count": null,
      "outputs": []
    },
    {
      "cell_type": "code",
      "source": [
        "cat1 = soup.find(id = 'sobe_d_b_6_1')\n",
        "print(cat1.prettify())"
      ],
      "metadata": {
        "id": "9mcxDOxHr70R"
      },
      "execution_count": null,
      "outputs": []
    },
    {
      "cell_type": "code",
      "source": [
        "test = soup.find(class_=\"sl-sobe-carousel-viewport-row\")\n",
        "print(test.prettify())"
      ],
      "metadata": {
        "id": "LNcxTB0Sv2HL"
      },
      "execution_count": null,
      "outputs": []
    },
    {
      "cell_type": "code",
      "source": [
        "lista = list()\n",
        "for link in test.findAll('a'):\n",
        "  lista.append(link.get('href'))\n",
        "  \n",
        "print(\"We found\", len(lista), 'links')  "
      ],
      "metadata": {
        "colab": {
          "base_uri": "https://localhost:8080/"
        },
        "id": "bMLlNoBjz3Hh",
        "outputId": "ca523835-3a47-41b2-dadc-eacf96a53f20"
      },
      "execution_count": null,
      "outputs": [
        {
          "output_type": "stream",
          "name": "stdout",
          "text": [
            "We found 21 links\n"
          ]
        }
      ]
    },
    {
      "cell_type": "code",
      "source": [
        "# So the next step it's to go for each those link where each represent the category's of the Computers and Informatics products.\n",
        "# We try the first one, to check if everything it's \"OK\".\n",
        "link_test = \"https://www.amazon.com.br/{}\".format(lista[0])\n",
        "page_test = requests.get(link_test)\n",
        "page_test_soup = BeautifulSoup(page_test.content, 'html.parser')\n",
        "print(page_test_soup.prettify())\n"
      ],
      "metadata": {
        "id": "kFfPLVRez3pM"
      },
      "execution_count": null,
      "outputs": []
    },
    {
      "cell_type": "code",
      "source": [
        "# Before we make someting more general, we need to know what's the information that we want to get from each category.\n",
        "# To make this more simple we will get each product's information from in the 'Best sellers' (Mais vendidos) section.\n",
        "# Continuing...\n",
        "link_BS = \"https://www.amazon.com.br{}\".format(page_test_soup.find(class_ = 'a-link-normal').get('href'))\n",
        "page_BS = requests.get(link_BS)\n",
        "page_BS_soup = BeautifulSoup(page_BS.content, 'html.parser')\n",
        "#print(page_BS_soup.prettify())\n",
        "page_BS_soup_find = page_BS_soup.findAll(id = 'gridItemRoot')\n",
        "\n",
        "for i in range(len(page_BS_soup_find)):\n",
        "  print(page_BS_soup_find[i].get_text('a-size-small'))\n",
        "\n",
        "\n",
        "\n"
      ],
      "metadata": {
        "id": "iUAT3g0B5d0o"
      },
      "execution_count": null,
      "outputs": []
    },
    {
      "cell_type": "code",
      "source": [
        "len(page_BS_soup_find)"
      ],
      "metadata": {
        "colab": {
          "base_uri": "https://localhost:8080/"
        },
        "id": "nZ806aga5e4E",
        "outputId": "43b65dbf-9645-4e70-aa07-6943b0d3dc8d"
      },
      "execution_count": null,
      "outputs": [
        {
          "output_type": "execute_result",
          "data": {
            "text/plain": [
              "50"
            ]
          },
          "metadata": {},
          "execution_count": 107
        }
      ]
    },
    {
      "cell_type": "code",
      "source": [
        "print(page_test_soup.prettify())"
      ],
      "metadata": {
        "id": "l-aHC_W35fAM"
      },
      "execution_count": null,
      "outputs": []
    },
    {
      "cell_type": "markdown",
      "source": [
        "# Continuing in another day"
      ],
      "metadata": {
        "id": "D-TqArEdCvf-"
      }
    }
  ]
}