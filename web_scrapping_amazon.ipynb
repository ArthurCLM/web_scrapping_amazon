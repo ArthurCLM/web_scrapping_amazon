{
  "nbformat": 4,
  "nbformat_minor": 0,
  "metadata": {
    "colab": {
      "provenance": []
    },
    "kernelspec": {
      "name": "python3",
      "display_name": "Python 3"
    },
    "language_info": {
      "name": "python"
    }
  },
  "cells": [
    {
      "cell_type": "code",
      "execution_count": 1,
      "metadata": {
        "id": "QfbVzHqBrg3X"
      },
      "outputs": [],
      "source": [
        "import requests\n",
        "import pandas as pd\n",
        "from bs4 import BeautifulSoup\n",
        "\n",
        "import re"
      ]
    },
    {
      "cell_type": "code",
      "source": [
        "page = requests.get(\"https://www.amazon.com.br/b/?node=16339926011&pf_rd_r=8THN8DZ0V5AS6M9T0J6C&pf_rd_p=10f1e499-203c-47c7-b617-3cbf30b8c869&pd_rd_r=11acf4ef-154f-4517-b0bc-20552b6726d3&pd_rd_w=xY9Y5&pd_rd_wg=Tp1YO&ref_=pd_gw_unk\")\n",
        "page"
      ],
      "metadata": {
        "colab": {
          "base_uri": "https://localhost:8080/"
        },
        "id": "pxd0Sy2srjQT",
        "outputId": "6023f9a6-1f4b-4edf-bc46-b3dcd4378d1b"
      },
      "execution_count": 2,
      "outputs": [
        {
          "output_type": "execute_result",
          "data": {
            "text/plain": [
              "<Response [200]>"
            ]
          },
          "metadata": {},
          "execution_count": 2
        }
      ]
    },
    {
      "cell_type": "markdown",
      "source": [
        "We can print out the HTML content of the page using the content property"
      ],
      "metadata": {
        "id": "zqOSmxYvEJl9"
      }
    },
    {
      "cell_type": "code",
      "source": [
        "page.content"
      ],
      "metadata": {
        "id": "zItGcLjwrjYA"
      },
      "execution_count": null,
      "outputs": []
    },
    {
      "cell_type": "code",
      "source": [
        "soup = BeautifulSoup(page.content, 'html.parser')\n",
        "cat = soup.find(class_=\"sl-sobe-carousel-viewport-row\")\n",
        "print(cat.prettify())"
      ],
      "metadata": {
        "id": "xjUwiq13r1Av"
      },
      "execution_count": null,
      "outputs": []
    },
    {
      "cell_type": "code",
      "source": [
        "list_link = list()\n",
        "names_link = list()\n",
        "for link in cat.findAll('a'):\n",
        "  list_link.append(link.get('href'))\n",
        "  \n",
        "type_product = [pt.get_text() for pt in cat.select('.sl-sobe-carousel-sub-card-title')]\n",
        "\n",
        "print(\"We found\", len(list_link), 'links')  \n",
        "print(\"These links are from of the products:\", type_product)  \n"
      ],
      "metadata": {
        "colab": {
          "base_uri": "https://localhost:8080/"
        },
        "id": "bMLlNoBjz3Hh",
        "outputId": "1a6e90d3-cd41-48c1-f7b8-9aeb4c3722c4"
      },
      "execution_count": 14,
      "outputs": [
        {
          "output_type": "stream",
          "name": "stdout",
          "text": [
            "We found 21 links\n",
            "These links are from of the products: ['Monitores', 'Notebooks', 'Cadeiras gamer', 'Headsets', 'Mouses', 'Teclados', 'Webcams', 'Mousepads', 'Armazenamento interno', 'Placas de vídeo', 'Impressoras e acessórios', 'Armazenamento externo', 'Conexão e rede', 'Tablets', 'Suportes', 'Mochilas, capas e estojos', 'Placas-mãe', 'Computadores de mesa', 'Memórias RAM', 'Processadores', 'No-breaks']\n"
          ]
        }
      ]
    },
    {
      "cell_type": "markdown",
      "source": [
        "So the next step it's to go for each those link where each represent the category's of the Computers and Informatics products."
      ],
      "metadata": {
        "id": "TSY3cqyLEEsu"
      }
    },
    {
      "cell_type": "code",
      "source": [
        "# We try the first one, to check if everything it's \"OK\".\n",
        "link_test = \"https://www.amazon.com.br/{}\".format(list_link[0])\n",
        "page_test = requests.get(link_test)\n",
        "page_test_soup = BeautifulSoup(page_test.content, 'html.parser')\n",
        "#print(page_test_soup.prettify())\n"
      ],
      "metadata": {
        "id": "kFfPLVRez3pM"
      },
      "execution_count": null,
      "outputs": []
    },
    {
      "cell_type": "markdown",
      "source": [
        "Before we make someting more general, we need to know what's the information that we want to get from each category. To make this more simple we will get each product's information from in the 'Best sellers' (Mais vendidos) section."
      ],
      "metadata": {
        "id": "CydKPIqAD_jM"
      }
    },
    {
      "cell_type": "code",
      "source": [
        "# Continuing...\n",
        "link_BS = \"https://www.amazon.com.br{}\".format(page_test_soup.find(class_ = 'a-link-normal').get('href'))\n",
        "page_BS = requests.get(link_BS)\n",
        "page_BS_soup = BeautifulSoup(page_BS.content, 'html.parser')\n",
        "#Removing a specific class\n",
        "page_BS_soup.find('div',class_='zg-more-list-types-container').decompose()\n",
        "\n",
        "names_product = [pt.get_text() for pt in page_BS_soup.select(\"._cDEzb_p13n-sc-css-line-clamp-3_g3dy1\")]\n",
        "number_evaluation = [pt.get_text() for pt in page_BS_soup.select(\".a-size-small\")]\n",
        "avg_evaluation = [pt.get_text() for pt in page_BS_soup.select(\".a-icon-alt\")]\n",
        "price_product = [pt.get_text() for pt in page_BS_soup.select(\".a-size-base\")]\n",
        "\n",
        "\n",
        "df = pd.DataFrame({\n",
        "    \"type_product\": type_product[0],\n",
        "    \"names_product\": names_product,\n",
        "    \"number_evaluation\": number_evaluation,\n",
        "    \"avg_evaluation\": avg_evaluation,\n",
        "    \"price_product\":price_product\n",
        "})\n",
        "\n",
        "#df['type_product'] = type_product[0]\n",
        "\n",
        "\n",
        "df\n",
        "\n",
        "#print(len(number_evaluation))\n"
      ],
      "metadata": {
        "id": "iUAT3g0B5d0o"
      },
      "execution_count": null,
      "outputs": []
    },
    {
      "cell_type": "markdown",
      "source": [
        "## The next problem it is with exist more than one page to search the prizes, so we need to add a specific code for this situation.\n"
      ],
      "metadata": {
        "id": "D-TqArEdCvf-"
      }
    },
    {
      "cell_type": "code",
      "source": [],
      "metadata": {
        "id": "HKEmo48JJIGz"
      },
      "execution_count": null,
      "outputs": []
    }
  ]
}